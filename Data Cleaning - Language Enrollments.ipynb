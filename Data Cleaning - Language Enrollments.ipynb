{
 "cells": [
  {
   "cell_type": "code",
   "execution_count": 103,
   "id": "596ed9b7-506f-4e6f-9041-54f1766a3757",
   "metadata": {},
   "outputs": [],
   "source": [
    "import pandas as pd"
   ]
  },
  {
   "cell_type": "code",
   "execution_count": 108,
   "id": "38bf9777-4593-4b33-89ae-b5595129e4a6",
   "metadata": {},
   "outputs": [],
   "source": [
    "# dfs are named as df[semester, (F)all or (S)pring][Last two digits of year]\n",
    "dfS20 = pd.read_csv('./Harvard Enrollment Data/S2020 Enrollment.csv', encoding = 'latin1')\n",
    "dfF20 = pd.read_csv('./Harvard Enrollment Data/F2020 Enrollment.csv', encoding = 'latin1')\n",
    "dfS21 = pd.read_csv('./Harvard Enrollment Data/S2021 Enrollment.csv', encoding = 'latin1')\n",
    "dfF21 = pd.read_csv('./Harvard Enrollment Data/F2021 Enrollment.csv', encoding = 'latin1')\n",
    "dfS22 = pd.read_csv('./Harvard Enrollment Data/S2022 Enrollment.csv', encoding = 'latin1')\n",
    "dfF22 = pd.read_csv('./Harvard Enrollment Data/F2022 Enrollment.csv', encoding = 'latin1')\n",
    "dfS23 = pd.read_csv('./Harvard Enrollment Data/S2023 Enrollment.csv', encoding = 'latin1')\n",
    "dfF23 = pd.read_csv('./Harvard Enrollment Data/F2023 Enrollment.csv', encoding = 'latin1')\n",
    "dfS24 = pd.read_csv('./Harvard Enrollment Data/S2024 Enrollment.csv', encoding = 'latin1')\n",
    "dfF24 = pd.read_csv('./Harvard Enrollment Data/F2024 Enrollment.csv', encoding = 'latin1')\n",
    "\n",
    "fixedColHeads = 0"
   ]
  },
  {
   "cell_type": "code",
   "execution_count": null,
   "id": "cbaa615e-fc2b-4e28-8ae0-8467695814d1",
   "metadata": {},
   "outputs": [],
   "source": [
    "# checking for correct headers, needed to join dataframes\n",
    "if fixedColHeads == 0:\n",
    "    fixedColHeads = 1\n",
    "    # fall 2020 (wasn't necessary for spring 2020)\n",
    "    dfF20.columns = dfF20.iloc[2]\n",
    "    dfF20 = dfF20.iloc[3:]\n",
    "    \n",
    "    # spring 2021\n",
    "    dfS21.columns = dfS21.iloc[2]\n",
    "    dfS21 = dfS21.iloc[3:]\n",
    "    \n",
    "    # fall 2021\n",
    "    dfF21.columns = dfF21.iloc[2]\n",
    "    dfF21 = dfF21.iloc[3:]\n",
    "    \n",
    "    # spring 2022\n",
    "    dfS22.columns = dfS22.iloc[2]\n",
    "    dfS22 = dfS22.iloc[3:]\n",
    "    \n",
    "    # fall 2022\n",
    "    dfF22.columns = dfF22.iloc[2]\n",
    "    dfF22 = dfF22.iloc[3:]\n",
    "    \n",
    "    # spring 2023\n",
    "    dfS23.columns = dfS23.iloc[2]\n",
    "    dfS23 = dfS23.iloc[3:]\n",
    "    \n",
    "    # fall 2023\n",
    "    dfF23.columns = dfF23.iloc[2]\n",
    "    dfF23 = dfF23.iloc[3:]\n",
    "    \n",
    "    # spring 2024\n",
    "    dfS24.columns = dfS24.iloc[2]\n",
    "    dfS24 = dfS24.iloc[3:]\n",
    "    \n",
    "    # fall 2024\n",
    "    dfF24.columns = dfF24.iloc[2]\n",
    "    dfF24 = dfF24.iloc[3:]\n",
    "else:\n",
    "    print(\"Column headers have already been fixed.\")"
   ]
  },
  {
   "cell_type": "code",
   "execution_count": null,
   "id": "89dd1b0f-1cf4-4ce5-84ae-6e2c3a566546",
   "metadata": {},
   "outputs": [],
   "source": []
  },
  {
   "cell_type": "code",
   "execution_count": 59,
   "id": "7acbf4f0-1895-447e-9408-29f8cec44224",
   "metadata": {},
   "outputs": [],
   "source": [
    "# deletes extraneous columns\n",
    "try:\n",
    "    dfF24 = dfF24.drop(columns=['View in Course Search', 'Class Number', 'Course Section Code', 'Total'])\n",
    "    dfS24 = dfS24.drop(columns=['Course ID', 'Course Section Code', 'Total'])\n",
    "    dfF23 = dfF23.drop(columns=['Course ID', 'Course Section Code', 'Total'])\n",
    "    dfS23 = dfS23.drop(columns=['Course ID', 'Course Section Code', 'Total'])\n",
    "    dfF22 = dfF22.drop(columns=['Course ID', 'Course Section Code', 'Total'])\n",
    "    dfS22 = dfS22.drop(columns=['Course ID', 'Course Section Code', 'Total'])\n",
    "    dfF21 = dfF21.drop(columns=['Course ID', 'Course Section Code', 'Total'])\n",
    "    dfS21 = dfS21.drop(columns=['Course ID', 'Course Section Code', 'Total'])\n",
    "    dfF20 = dfF20.drop(columns=['Course ID', 'Course Section Code', 'Total'])\n",
    "    dfS20 = dfS20.drop(columns=['Course ID', 'Course Section Code', 'Total'])\n",
    "except:\n",
    "    print(\"Columns have already been dropped.\")"
   ]
  },
  {
   "cell_type": "code",
   "execution_count": 61,
   "id": "aeaef85e-244b-40e0-bc55-f0987595e8d5",
   "metadata": {},
   "outputs": [],
   "source": [
    "# adds column to each dataframe designating year and semester\n",
    "dfS20['Year'] = 2020\n",
    "dfS20['Semester'] = \"Spring\"\n",
    "dfF20['Year'] = 2020\n",
    "dfF20['Semester'] = \"Fall\"\n",
    "dfS21['Year'] = 2021\n",
    "dfS21['Semester'] = \"Spring\"\n",
    "dfF21['Year'] = 2021\n",
    "dfF21['Semester'] = \"Fall\"\n",
    "dfS22['Year'] = 2022\n",
    "dfS22['Semester'] = \"Spring\"\n",
    "dfF22['Year'] = 2022\n",
    "dfF22['Semester'] = \"Fall\"\n",
    "dfS23['Year'] = 2023\n",
    "dfS23['Semester'] = \"Spring\"\n",
    "dfF23['Year'] = 2023\n",
    "dfF23['Semester'] = \"Fall\"\n",
    "dfS24['Year'] = 2024\n",
    "dfS24['Semester'] = \"Spring\"\n",
    "dfF24['Year'] = 2024\n",
    "dfF24['Semester'] = \"Fall\""
   ]
  },
  {
   "cell_type": "code",
   "execution_count": 63,
   "id": "c1d7747d-d5f0-4131-b5fc-53dbc85d42d5",
   "metadata": {},
   "outputs": [],
   "source": [
    "# drops null values in numeric columns (so objects can be converted to ints), converts all numeric object columns to int64 (so they can be merged later on)\n",
    "# don't worry i checked and these null values aren't actual classes it's just extraneous stuff\n",
    "\n",
    "# spring 2020 (didn't need to change objects to ints here)\n",
    "dfS20 = dfS20.dropna(axis=0, subset=['UGrad', 'Grad', 'NonDegree', 'XReg', 'VUS', 'Employee', 'Withdraw', 'Course Name'])\n",
    "\n",
    "# fall 2020\n",
    "dfF20 = dfF20.dropna(axis=0, subset=['UGrad', 'Grad', 'NonDegree', 'XReg', 'VUS', 'Employee', 'Withdraw', 'Course Name'])\n",
    "dfF20[['UGrad', 'Grad', 'NonDegree', 'XReg', 'VUS', 'Employee', 'Withdraw']] = dfF20[['UGrad', 'Grad', 'NonDegree', 'XReg', 'VUS', 'Employee', 'Withdraw']].apply(pd.to_numeric)\n",
    "\n",
    "# spring 2021\n",
    "dfS21 = dfS21.dropna(axis=0, subset=['UGrad', 'Grad', 'NonDegree', 'XReg', 'VUS', 'Employee', 'Withdraw', 'Course Name'])\n",
    "dfS21[['UGrad', 'Grad', 'NonDegree', 'XReg', 'VUS', 'Employee', 'Withdraw']] = dfS21[['UGrad', 'Grad', 'NonDegree', 'XReg', 'VUS', 'Employee', 'Withdraw']].apply(pd.to_numeric)\n",
    "\n",
    "# fall 2021\n",
    "dfF21 = dfF21.dropna(axis=0, subset=['UGrad', 'Grad', 'NonDegree', 'XReg', 'VUS', 'Employee', 'Withdraw', 'Course Name'])\n",
    "dfF21[['UGrad', 'Grad', 'NonDegree', 'XReg', 'VUS', 'Employee', 'Withdraw']] = dfF21[['UGrad', 'Grad', 'NonDegree', 'XReg', 'VUS', 'Employee', 'Withdraw']].apply(pd.to_numeric)\n",
    "\n",
    "# spring 2022\n",
    "dfS22 = dfS22.dropna(axis=0, subset=['UGrad', 'Grad', 'NonDegree', 'XReg', 'VUS', 'Employee', 'Withdraw', 'Course Name'])\n",
    "dfS22[['UGrad', 'Grad', 'NonDegree', 'XReg', 'VUS', 'Employee', 'Withdraw']] = dfS22[['UGrad', 'Grad', 'NonDegree', 'XReg', 'VUS', 'Employee', 'Withdraw']].apply(pd.to_numeric)\n",
    "\n",
    "# fall 2022\n",
    "dfF22 = dfF22.dropna(axis=0, subset=['UGrad', 'Grad', 'NonDegree', 'XReg', 'VUS', 'Employee', 'Withdraw', 'Course Name'])\n",
    "dfF22[['UGrad', 'Grad', 'NonDegree', 'XReg', 'VUS', 'Employee', 'Withdraw']] = dfF22[['UGrad', 'Grad', 'NonDegree', 'XReg', 'VUS', 'Employee', 'Withdraw']].apply(pd.to_numeric)\n",
    "\n",
    "# spring 2023\n",
    "dfS23 = dfS23.dropna(axis=0, subset=['UGrad', 'Grad', 'NonDegree', 'XReg', 'VUS', 'Employee', 'Withdraw', 'Course Name'])\n",
    "dfS23[['UGrad', 'Grad', 'NonDegree', 'XReg', 'VUS', 'Employee', 'Withdraw']] = dfS23[['UGrad', 'Grad', 'NonDegree', 'XReg', 'VUS', 'Employee', 'Withdraw']].apply(pd.to_numeric)\n",
    "\n",
    "# fall 2023\n",
    "dfF23 = dfF23.dropna(axis=0, subset=['UGrad', 'Grad', 'NonDegree', 'XReg', 'VUS', 'Employee', 'Withdraw', 'Course Name'])\n",
    "dfF23[['UGrad', 'Grad', 'NonDegree', 'XReg', 'VUS', 'Employee', 'Withdraw']] = dfF23[['UGrad', 'Grad', 'NonDegree', 'XReg', 'VUS', 'Employee', 'Withdraw']].apply(pd.to_numeric)\n",
    "\n",
    "# spring 2024\n",
    "dfS24 = dfS24.dropna(axis=0, subset=['UGrad', 'Grad', 'NonDegree', 'XReg', 'VUS', 'Employee', 'Withdraw', 'Course Name'])\n",
    "dfS24[['UGrad', 'Grad', 'NonDegree', 'XReg', 'VUS', 'Employee', 'Withdraw']] = dfS24[['UGrad', 'Grad', 'NonDegree', 'XReg', 'VUS', 'Employee', 'Withdraw']].apply(pd.to_numeric)\n",
    "\n",
    "# fall 2024\n",
    "dfF24 = dfF24.dropna(axis=0, subset=['UGrad', 'Grad', 'NonDegree', 'XReg', 'VUS', 'Employee', 'Withdraw', 'Course Name'])\n",
    "dfF24[['UGrad', 'Grad', 'NonDegree', 'XReg', 'VUS', 'Employee', 'Withdraw']] = dfF24[['UGrad', 'Grad', 'NonDegree', 'XReg', 'VUS', 'Employee', 'Withdraw']].apply(pd.to_numeric)"
   ]
  },
  {
   "cell_type": "code",
   "execution_count": 65,
   "id": "ede0b6ca-81eb-4cb0-951d-71b9f5f415df",
   "metadata": {},
   "outputs": [],
   "source": [
    "# puts all the data into one big dataframe\n",
    "allData = pd.concat([dfS20, dfF20, dfS21, dfF21, dfS22, dfF22, dfS23, dfF23, dfS24, dfF24])"
   ]
  },
  {
   "cell_type": "code",
   "execution_count": 67,
   "id": "c2daee13-e5cb-4702-8806-8fe2b213b97b",
   "metadata": {},
   "outputs": [],
   "source": [
    "# narrowing down to departments [not a necessary step], just makes it faster to search later on\n",
    "departmentsWithLanguages = ['African & African Amer Studies', 'Celtic Languages & Literatures', 'Classics, The', \n",
    "                            'East Asian Langs & Civ', 'Germanic Languages & Lit', 'Near Eastern Languages & Civ', \n",
    "                            'Romance Languages & Lit', 'Slavic Languages & Literatures', 'South Asian Studies']\n",
    "excludeInDepartment = [\"AFRAMER|AAAS\", \"CELTIC\", \"CLASARCH|CLASPHIL|CLASSIC|CLS-STDY|ANCSTD\", \n",
    "                       \"CHNSHIS|CHNSLIT|EABS|EAFM|EASTD|JAPNHIST|JAPNLIT|KORHIST|KORLIT\", \"GERMPHIL\", \"ANE|ARMENST|ISLAMCIV|MODMDEST|NEC|JEWISHST\",\n",
    "                       \"ROM-STD|ROM-LANG\", \"SLAVIC\", \"SAS|INDO-PER\"]\n",
    "allData = allData[allData['Course Department'].isin(departmentsWithLanguages)]\n",
    "\n",
    "# adds total number of enrollment across all schools minus enrollment\n",
    "allData['Total'] = allData['UGrad'] + allData['Grad'] + allData['NonDegree'] + allData['XReg'] + allData['VUS'] + allData['Employee'] - allData['Withdraw']"
   ]
  },
  {
   "cell_type": "code",
   "execution_count": 69,
   "id": "62ea7d49-a860-45f0-824d-77991990bb76",
   "metadata": {},
   "outputs": [],
   "source": [
    "# for each department, filter out stuff that i know isn't languages, then save all the rest\n",
    "allLanguages = []\n",
    "for x in range(len(departmentsWithLanguages)):\n",
    "    department = allData[allData['Course Title'].str.contains(excludeInDepartment[x])==False]\n",
    "    department = department[department['Course Department'] == departmentsWithLanguages[x]]\n",
    "    \n",
    "    for a in department['Course Title'].unique():\n",
    "        allLanguages.append(a.split()[0])\n",
    "    \n",
    "allLanguages = list(dict.fromkeys(allLanguages))"
   ]
  },
  {
   "cell_type": "code",
   "execution_count": 71,
   "id": "47a0cb0a-e5d0-4ab8-9a14-466024dc6d0f",
   "metadata": {},
   "outputs": [],
   "source": [
    "# filters dataset for just classes with a language code\n",
    "almostJustLanguages = allData[allData['Course Title'].str.contains('|'.join([str(x) for x in allLanguages]))==True]\n",
    "\n",
    "# fixes the scandinavia class code, since it contains certain classes that are not languages\n",
    "scandNonLangClass = almostJustLanguages[almostJustLanguages['Course Title'].str.contains(\"SCAND\")==True]\n",
    "scandNonLangClass = scandNonLangClass[scandNonLangClass['Course Title'].str.contains(\"SCAND 90\")==False].index\n",
    "\n",
    "languageCourses = almostJustLanguages.drop(scandNonLangClass)"
   ]
  },
  {
   "cell_type": "code",
   "execution_count": 110,
   "id": "a8104438-bc58-436b-9744-a7aabd0d983b",
   "metadata": {},
   "outputs": [],
   "source": [
    "# deletes courses with instructor 'Unknown' because that means the class didn't run\n",
    "languageCourses['Instructor Full Name'] = languageCourses['Instructor Full Name'].fillna(value=\"Unknown\")\n",
    "languageCourses = languageCourses[languageCourses['Instructor Full Name'] != \"Unknown\"]\n",
    "languageCourses['Course Title'] = languageCourses['Course Title'].str.strip()\n",
    "languageCourses['Course Title'] = languageCourses['Course Title'].str.replace('\\u00A0', ' ', regex=False)\n",
    "languageCourses['Course Title'] = languageCourses['Course Title'].str.replace(r'[\\u200B-\\u200D\\uFEFF]', '', regex=True)"
   ]
  },
  {
   "cell_type": "code",
   "execution_count": 81,
   "id": "5c4ac9f8-1605-48a5-a052-f7a760bf6825",
   "metadata": {},
   "outputs": [
    {
     "name": "stdout",
     "output_type": "stream",
     "text": [
      "Number of distinct languages: 80\n"
     ]
    }
   ],
   "source": [
    "print(f\"Number of distinct languages: {len(allLanguages)}\")"
   ]
  },
  {
   "cell_type": "code",
   "execution_count": 118,
   "id": "05b36432-411b-4ffa-8201-81f7f84f1965",
   "metadata": {},
   "outputs": [],
   "source": [
    "languageCourses.to_csv('all_language_courses.csv')"
   ]
  },
  {
   "cell_type": "code",
   "execution_count": null,
   "id": "88fce00f-35a7-46bb-bc65-bb9f6381e37d",
   "metadata": {},
   "outputs": [],
   "source": []
  }
 ],
 "metadata": {
  "kernelspec": {
   "display_name": "Python 3 (ipykernel)",
   "language": "python",
   "name": "python3"
  },
  "language_info": {
   "codemirror_mode": {
    "name": "ipython",
    "version": 3
   },
   "file_extension": ".py",
   "mimetype": "text/x-python",
   "name": "python",
   "nbconvert_exporter": "python",
   "pygments_lexer": "ipython3",
   "version": "3.12.4"
  }
 },
 "nbformat": 4,
 "nbformat_minor": 5
}
